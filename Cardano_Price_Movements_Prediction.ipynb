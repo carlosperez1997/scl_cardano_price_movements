{
  "nbformat": 4,
  "nbformat_minor": 0,
  "metadata": {
    "accelerator": "GPU",
    "colab": {
      "name": "Cardano_Price_Movements_Prediction.ipynb",
      "provenance": [],
      "collapsed_sections": []
    },
    "kernelspec": {
      "display_name": "Python 3",
      "name": "python3"
    },
    "language_info": {
      "name": "python"
    }
  },
  "cells": [
    {
      "cell_type": "markdown",
      "metadata": {
        "id": "-p-yJ5MlUf63"
      },
      "source": [
        "# **Nuwe - Summer Coding League**\n",
        "# Week  1 - Predicting Cardano price movements\n",
        "\n",
        "Author: Carlos Pérez Ricardo\n",
        "\n",
        "# Problem definition\n",
        "\n",
        "[Cardano](https://cardano.org/) is one of the most important cryptocurrencies in the [cryptocurrency market](https://coinmarketcap.com/), and it is also one of the most volatile in the top 10. Currently the cryptocurrency market is a highly speculative market in which there are large players who are making large profits through the use of bots that buy and sell when they detect anomalous movements, and who benefit from the high volatility in prices, the more volatility there is, the higher the profit margins obtained. As this is a market in which the majority of large movements are made by bots, it is not unreasonable to think that bots can be used with just a few pieces of market data to detect price trigger actions and take advantage of them.\n",
        "\n",
        "\n",
        "---\n",
        "## Task\n",
        "\n",
        "Create a predictive algorithm (Machine Learning or Deep Learning) to predict the correct time to buy cardano and the correct time to sell, these are defined by the 'target' column of the 'train.csv' dataset. Once the predictive algorithm is done, it has to be used with the testing predictors dataset. \n",
        "\n",
        "--- \n",
        "## Dataset\n",
        "\n",
        "For this challenge two [datasets](https://github.com/nuwe-io/SCL/tree/main/data_science/week_1) are provided, the dataset for training the predictive algorithm and the dataset for testing the predictive algorithm.\n",
        "\n",
        "Each row of the dataset represents features of the trades done in periods of 5 minutes. The train + test dataset contains information of the pair ADA/USDT of 63 days obtained by using the Binance API.\n",
        "\n",
        "### train.csv\n",
        "*Shape (12701 rows, 11 columns)*\n",
        "\n",
        "| Open_time           | Open   | High   | Low    | Close  | Volume     | QV           | NOT  | TBB        | TBQ          | Volatility | target |\n",
        "|---------------------|--------|--------|--------|--------|------------|--------------|------|------------|--------------|------------|--------|\n",
        "| 2021-05-13 09:00:00 | 1.6625 | 1.6800 | 1.6623 | 1.6737 | 2878032.99 | 4.821304e+06 | 5125 | 1702161.28 | 2.851617e+06 | 0.673684   | 0      |\n",
        "\n",
        "#### Predictors\n",
        "First 10 columns\n",
        "\n",
        "* **Open_time** -> Time in which the candle starts. ('%Y-%m-%d %H:%M:%S')\n",
        "* **Open** -> Open price of the candle, (price of the asset at the beggining of the 5 minutes)\n",
        "* **High** -> Higher price of the asset in the 5 minutes period\n",
        "* **Low** -> Lower price of the asset in the 5 minutes period\n",
        "* **Close** -> Close price of the candle (price of the asset at the end of the 5 minutes)\n",
        "\n",
        "![](https://github.com/nuwe-io/SCL/blob/main/data_science/week_1/images/candle.png)\n",
        "\n",
        "* **Volume** -> Amount of cryptocurrecies transactionated in the 5 minutes timeframe\n",
        "* **QV** -> Quote asset Volume, amount of USD transactionated in the 5 minutes timeframe\n",
        "* **NOT** -> Number Of Trades, this mean the total number of transactions done in the 5 minutes timeframe\n",
        "* **TBB** -> (Taker Buy Base) Amount of crypto bought directly with a market order\n",
        "* **TBQ** -> (Taker Buy Quote) Amount of USDT bought directly with a maket order\n",
        "* **Volatility** -> Is the relative change between the close price and the open price of each timeframe [%] \n",
        "\n",
        "\n",
        "#### Target\n",
        "Column 11 -> target to predict \n",
        "\n",
        "This column shows 3 values that goes from 0 to 2. Where each of these values corresponds to one order. These orders can be later be executed by a bot\n",
        "\n",
        "| Value | Order |\n",
        "|:-----:|:-----:|\n",
        "|   0   |  Wait |\n",
        "|   1   |  Buy  |\n",
        "|   2   |  Sell |\n",
        "\n",
        "\n",
        "### test_predictors.csv\n",
        "*Shape (5443 rows, 10 columns)*\n",
        "\n",
        "Contains the same predictors as in the train set to test the accuracy of your predictive algorithm."
      ]
    },
    {
      "cell_type": "markdown",
      "metadata": {
        "id": "SxzY2qZUU8Rw"
      },
      "source": [
        "# Solution to the problem\n",
        "\n",
        "This problem is an imbalanced multiclass classification problem where the target is composed by 3 classes (0 = wait, 1 = buy, 2 = sell). \n",
        "\n",
        "Deep Learning is commonly used with problems in the finance or cryptomarket fields. For this problem we will give a try to [LSTM](https://en.wikipedia.org/wiki/Long_short-term_memory) (Long short-term memory) which is an artificial recurrent neural network (RNN) architecture. \n",
        "\n",
        "LSTMs are well-suited to classifying, processing and making predictions based on time series data, since there can be lags of unknown duration between important events in a time series. \n",
        "\n",
        "And as this problem has an important issue with Time Series, let's see how it performs!\n",
        "\n",
        "**Importing libraries and dataset**"
      ]
    },
    {
      "cell_type": "code",
      "metadata": {
        "colab": {
          "base_uri": "https://localhost:8080/"
        },
        "id": "zIjLB7DuLBCF",
        "outputId": "32488a17-f279-4901-f6af-02e33cac8338"
      },
      "source": [
        "import pandas as pd\n",
        "import numpy as np\n",
        "from sklearn.preprocessing import MinMaxScaler\n",
        "\n",
        "import time\n",
        "\n",
        "import keras\n",
        "from tensorflow import keras as ks\n",
        "\n",
        "from keras.layers import TimeDistributed\n",
        "from keras.models import load_model\n",
        "\n",
        "from sklearn.preprocessing import MinMaxScaler, StandardScaler\n",
        "\n",
        "from keras.utils.np_utils import to_categorical\n",
        "from keras.models import Sequential\n",
        "from keras.layers import LSTM\n",
        "from keras.layers import Dense\n",
        "from keras.layers import TimeDistributed\n",
        "\n",
        "from keras.models import Sequential\n",
        "from keras.layers import Dense, Dropout\n",
        "\n",
        "from keras.callbacks import ModelCheckpoint\n",
        "\n",
        "from imblearn.over_sampling import SMOTE\n",
        "import matplotlib.pyplot as plt"
      ],
      "execution_count": 1,
      "outputs": [
        {
          "output_type": "stream",
          "text": [
            "/usr/local/lib/python3.7/dist-packages/sklearn/externals/six.py:31: FutureWarning: The module is deprecated in version 0.21 and will be removed in version 0.23 since we've dropped support for Python 2.7. Please rely on the official version of six (https://pypi.org/project/six/).\n",
            "  \"(https://pypi.org/project/six/).\", FutureWarning)\n",
            "/usr/local/lib/python3.7/dist-packages/sklearn/utils/deprecation.py:144: FutureWarning: The sklearn.neighbors.base module is  deprecated in version 0.22 and will be removed in version 0.24. The corresponding classes / functions should instead be imported from sklearn.neighbors. Anything that cannot be imported from sklearn.neighbors is now part of the private API.\n",
            "  warnings.warn(message, FutureWarning)\n"
          ],
          "name": "stderr"
        }
      ]
    },
    {
      "cell_type": "code",
      "metadata": {
        "id": "FKSHGyDLLWF5"
      },
      "source": [
        "df_train = pd.read_csv('https://raw.githubusercontent.com/nuwe-io/SCL/main/data_science/week_1/train.csv')\n",
        "df_test = pd.read_csv('https://raw.githubusercontent.com/nuwe-io/SCL/main/data_science/week_1/test_predictors.csv')"
      ],
      "execution_count": 2,
      "outputs": []
    },
    {
      "cell_type": "markdown",
      "metadata": {
        "id": "XktjLJYlWfHp"
      },
      "source": [
        "As explained before, the dataset is composed of 11 columns and the last one corresponds to the target. The test dataset lacks the target column. "
      ]
    },
    {
      "cell_type": "code",
      "metadata": {
        "colab": {
          "base_uri": "https://localhost:8080/"
        },
        "id": "CpUvxSWqLZVF",
        "outputId": "1d173bd5-088d-4f1d-fa74-d57352ac4fcd"
      },
      "source": [
        "df_train.info()"
      ],
      "execution_count": 3,
      "outputs": [
        {
          "output_type": "stream",
          "text": [
            "<class 'pandas.core.frame.DataFrame'>\n",
            "RangeIndex: 12701 entries, 0 to 12700\n",
            "Data columns (total 12 columns):\n",
            " #   Column      Non-Null Count  Dtype  \n",
            "---  ------      --------------  -----  \n",
            " 0   Open_time   12701 non-null  object \n",
            " 1   Open        12701 non-null  float64\n",
            " 2   High        12701 non-null  float64\n",
            " 3   Low         12701 non-null  float64\n",
            " 4   Close       12701 non-null  float64\n",
            " 5   Volume      12701 non-null  float64\n",
            " 6   QV          12701 non-null  float64\n",
            " 7   NOT         12701 non-null  int64  \n",
            " 8   TBB         12701 non-null  float64\n",
            " 9   TBQ         12701 non-null  float64\n",
            " 10  Volatility  12701 non-null  float64\n",
            " 11  target      12701 non-null  int64  \n",
            "dtypes: float64(9), int64(2), object(1)\n",
            "memory usage: 1.2+ MB\n"
          ],
          "name": "stdout"
        }
      ]
    },
    {
      "cell_type": "code",
      "metadata": {
        "colab": {
          "base_uri": "https://localhost:8080/",
          "height": 202
        },
        "id": "eop11acPOyTw",
        "outputId": "fa801266-7fce-492b-e826-60d7e2f6284c"
      },
      "source": [
        "df_train.head(5)"
      ],
      "execution_count": 4,
      "outputs": [
        {
          "output_type": "execute_result",
          "data": {
            "text/html": [
              "<div>\n",
              "<style scoped>\n",
              "    .dataframe tbody tr th:only-of-type {\n",
              "        vertical-align: middle;\n",
              "    }\n",
              "\n",
              "    .dataframe tbody tr th {\n",
              "        vertical-align: top;\n",
              "    }\n",
              "\n",
              "    .dataframe thead th {\n",
              "        text-align: right;\n",
              "    }\n",
              "</style>\n",
              "<table border=\"1\" class=\"dataframe\">\n",
              "  <thead>\n",
              "    <tr style=\"text-align: right;\">\n",
              "      <th></th>\n",
              "      <th>Open_time</th>\n",
              "      <th>Open</th>\n",
              "      <th>High</th>\n",
              "      <th>Low</th>\n",
              "      <th>Close</th>\n",
              "      <th>Volume</th>\n",
              "      <th>QV</th>\n",
              "      <th>NOT</th>\n",
              "      <th>TBB</th>\n",
              "      <th>TBQ</th>\n",
              "      <th>Volatility</th>\n",
              "      <th>target</th>\n",
              "    </tr>\n",
              "  </thead>\n",
              "  <tbody>\n",
              "    <tr>\n",
              "      <th>0</th>\n",
              "      <td>2021-05-13 09:00:00</td>\n",
              "      <td>1.6625</td>\n",
              "      <td>1.6800</td>\n",
              "      <td>1.6623</td>\n",
              "      <td>1.6737</td>\n",
              "      <td>2878032.99</td>\n",
              "      <td>4.821304e+06</td>\n",
              "      <td>5125</td>\n",
              "      <td>1702161.28</td>\n",
              "      <td>2.851617e+06</td>\n",
              "      <td>0.673684</td>\n",
              "      <td>0</td>\n",
              "    </tr>\n",
              "    <tr>\n",
              "      <th>1</th>\n",
              "      <td>2021-05-13 09:05:00</td>\n",
              "      <td>1.6738</td>\n",
              "      <td>1.6790</td>\n",
              "      <td>1.6686</td>\n",
              "      <td>1.6733</td>\n",
              "      <td>2723854.15</td>\n",
              "      <td>4.558141e+06</td>\n",
              "      <td>4318</td>\n",
              "      <td>1516726.12</td>\n",
              "      <td>2.538139e+06</td>\n",
              "      <td>-0.029872</td>\n",
              "      <td>0</td>\n",
              "    </tr>\n",
              "    <tr>\n",
              "      <th>2</th>\n",
              "      <td>2021-05-13 09:10:00</td>\n",
              "      <td>1.6734</td>\n",
              "      <td>1.6749</td>\n",
              "      <td>1.6496</td>\n",
              "      <td>1.6514</td>\n",
              "      <td>3653708.06</td>\n",
              "      <td>6.075417e+06</td>\n",
              "      <td>5561</td>\n",
              "      <td>1625405.03</td>\n",
              "      <td>2.702822e+06</td>\n",
              "      <td>-1.314689</td>\n",
              "      <td>1</td>\n",
              "    </tr>\n",
              "    <tr>\n",
              "      <th>3</th>\n",
              "      <td>2021-05-13 09:15:00</td>\n",
              "      <td>1.6515</td>\n",
              "      <td>1.6708</td>\n",
              "      <td>1.6500</td>\n",
              "      <td>1.6693</td>\n",
              "      <td>3313388.75</td>\n",
              "      <td>5.505110e+06</td>\n",
              "      <td>5374</td>\n",
              "      <td>1797877.23</td>\n",
              "      <td>2.987432e+06</td>\n",
              "      <td>1.077808</td>\n",
              "      <td>0</td>\n",
              "    </tr>\n",
              "    <tr>\n",
              "      <th>4</th>\n",
              "      <td>2021-05-13 09:20:00</td>\n",
              "      <td>1.6690</td>\n",
              "      <td>1.6728</td>\n",
              "      <td>1.6587</td>\n",
              "      <td>1.6668</td>\n",
              "      <td>3478711.17</td>\n",
              "      <td>5.794350e+06</td>\n",
              "      <td>5799</td>\n",
              "      <td>1736515.81</td>\n",
              "      <td>2.892649e+06</td>\n",
              "      <td>-0.131815</td>\n",
              "      <td>0</td>\n",
              "    </tr>\n",
              "  </tbody>\n",
              "</table>\n",
              "</div>"
            ],
            "text/plain": [
              "             Open_time    Open    High  ...           TBQ  Volatility  target\n",
              "0  2021-05-13 09:00:00  1.6625  1.6800  ...  2.851617e+06    0.673684       0\n",
              "1  2021-05-13 09:05:00  1.6738  1.6790  ...  2.538139e+06   -0.029872       0\n",
              "2  2021-05-13 09:10:00  1.6734  1.6749  ...  2.702822e+06   -1.314689       1\n",
              "3  2021-05-13 09:15:00  1.6515  1.6708  ...  2.987432e+06    1.077808       0\n",
              "4  2021-05-13 09:20:00  1.6690  1.6728  ...  2.892649e+06   -0.131815       0\n",
              "\n",
              "[5 rows x 12 columns]"
            ]
          },
          "metadata": {
            "tags": []
          },
          "execution_count": 4
        }
      ]
    },
    {
      "cell_type": "code",
      "metadata": {
        "colab": {
          "base_uri": "https://localhost:8080/"
        },
        "id": "Lr_zaU3GLcFl",
        "outputId": "133e4280-d13b-48d0-8684-57984690d702"
      },
      "source": [
        "df_test.info()"
      ],
      "execution_count": 5,
      "outputs": [
        {
          "output_type": "stream",
          "text": [
            "<class 'pandas.core.frame.DataFrame'>\n",
            "RangeIndex: 5443 entries, 0 to 5442\n",
            "Data columns (total 11 columns):\n",
            " #   Column      Non-Null Count  Dtype  \n",
            "---  ------      --------------  -----  \n",
            " 0   Open_time   5443 non-null   object \n",
            " 1   Open        5443 non-null   float64\n",
            " 2   High        5443 non-null   float64\n",
            " 3   Low         5443 non-null   float64\n",
            " 4   Close       5443 non-null   float64\n",
            " 5   Volume      5443 non-null   float64\n",
            " 6   QV          5443 non-null   float64\n",
            " 7   NOT         5443 non-null   int64  \n",
            " 8   TBB         5443 non-null   float64\n",
            " 9   TBQ         5443 non-null   float64\n",
            " 10  Volatility  5443 non-null   float64\n",
            "dtypes: float64(9), int64(1), object(1)\n",
            "memory usage: 467.9+ KB\n"
          ],
          "name": "stdout"
        }
      ]
    },
    {
      "cell_type": "markdown",
      "metadata": {
        "id": "3uU8bjLKOscB"
      },
      "source": [
        "## Analisis of the target\n",
        "\n",
        "The target is a little unbalanced, in most of the timestamps the target is 0 (wait). So if the model provides the default and most common answer, the accuracy would be 0.93748. \n",
        "\n",
        "So our model would have provide a better result, than saying default. \n",
        "\n",
        "Guessing all 0 doesn't make sense, the goal of this task is to provide an algotithm that can find patterns in order to buy or sell Cardano stocks.\n",
        "\n",
        "Due to the imbalance of the dataset, we will perform a Synthetic Minority Oversampling Technique ([SMOTE](https://machinelearningmastery.com/smote-oversampling-for-imbalanced-classification/)).\n"
      ]
    },
    {
      "cell_type": "code",
      "metadata": {
        "colab": {
          "base_uri": "https://localhost:8080/"
        },
        "id": "3hc1Ro4lOvxE",
        "outputId": "9014ca61-8c4b-46e3-be1a-7ba2d51ec388"
      },
      "source": [
        "df_train['target'].value_counts()"
      ],
      "execution_count": 6,
      "outputs": [
        {
          "output_type": "execute_result",
          "data": {
            "text/plain": [
              "0    11097\n",
              "2      802\n",
              "1      802\n",
              "Name: target, dtype: int64"
            ]
          },
          "metadata": {
            "tags": []
          },
          "execution_count": 6
        }
      ]
    },
    {
      "cell_type": "code",
      "metadata": {
        "id": "MDHZd8jVas6G"
      },
      "source": [
        "labels = to_categorical(df_train['target'], num_classes=3)"
      ],
      "execution_count": 7,
      "outputs": []
    },
    {
      "cell_type": "code",
      "metadata": {
        "colab": {
          "base_uri": "https://localhost:8080/"
        },
        "id": "Z1-9Xwhra4Di",
        "outputId": "1434ab83-a76b-47e1-9ab4-894149e9c8b1"
      },
      "source": [
        "labels"
      ],
      "execution_count": 8,
      "outputs": [
        {
          "output_type": "execute_result",
          "data": {
            "text/plain": [
              "array([[1., 0., 0.],\n",
              "       [1., 0., 0.],\n",
              "       [0., 1., 0.],\n",
              "       ...,\n",
              "       [1., 0., 0.],\n",
              "       [1., 0., 0.],\n",
              "       [1., 0., 0.]], dtype=float32)"
            ]
          },
          "metadata": {
            "tags": []
          },
          "execution_count": 8
        }
      ]
    },
    {
      "cell_type": "markdown",
      "metadata": {
        "id": "CVchTPjTW0nr"
      },
      "source": [
        "# Data Preparation\n",
        "\n",
        "In this part we extract all useful information and leave every column as a number (Deep Learning work only with matrices of numbers).\n",
        "\n",
        "The main issue is to extract all useful information from the timestamp \"Open_time\"."
      ]
    },
    {
      "cell_type": "code",
      "metadata": {
        "id": "eAhyLMqTR5YU"
      },
      "source": [
        "def convert_time(df):\n",
        "\n",
        "  df = df.sort_values('Open_time')\n",
        "\n",
        "  df['Year'] = [int(x[:4]) for x in df['Open_time'] ]\n",
        "  df['Month'] = [int(x[5:7]) for x in df['Open_time'] ]\n",
        "  df['Day'] = [int(x[8:11]) for x in df['Open_time'] ]\n",
        "\n",
        "  df['Hour'] = [int(x[11:13]) for x in df['Open_time'] ]\n",
        "  df['Minute'] = [int(x[14:16]) for x in df['Open_time'] ]\n",
        "\n",
        "  df['Open_time'] = [time.mktime(time.strptime(x, \"%Y-%m-%d %H:%M:%S\")) for x in df['Open_time'] ]\n",
        "\n",
        "  return df"
      ],
      "execution_count": 9,
      "outputs": []
    },
    {
      "cell_type": "code",
      "metadata": {
        "id": "i8XcnNq5Tv81"
      },
      "source": [
        "df_train = convert_time(df_train)\n",
        "df_test = convert_time(df_test)"
      ],
      "execution_count": 10,
      "outputs": []
    },
    {
      "cell_type": "code",
      "metadata": {
        "id": "sCckQarbPUdp"
      },
      "source": [
        "cols = df_train.columns\n",
        "cols = cols.drop(\"target\")\n",
        "\n",
        "X_train = df_train[cols]\n",
        "y_train = df_train[\"target\"]"
      ],
      "execution_count": 11,
      "outputs": []
    },
    {
      "cell_type": "markdown",
      "metadata": {
        "id": "bcQKoxFxYjI5"
      },
      "source": [
        "We perform a SMOTE with the goal of having a final target distribution of  {0:20000, 1:5000, 2:5000}. Where the key corresponds to the class and the value to the number of samples. \n",
        "\n",
        "This way we ensure to have a balanced dataset, and the model would not try always to predict 0, as it is the most common answer (and as it provides a very high accuracy).\n",
        "\n",
        "And we also scale the features with a MinMaxScaler, that fits all variables between 0 and 1. "
      ]
    },
    {
      "cell_type": "code",
      "metadata": {
        "colab": {
          "base_uri": "https://localhost:8080/"
        },
        "id": "O0l1kGq0O1cg",
        "outputId": "7fcd18a0-5722-4fb8-f627-ff298100aba2"
      },
      "source": [
        "# transform the dataset\n",
        "#strategy = {0:15000, 1:10000, 2:10000}\n",
        "strategy = {0:20000, 1:5000, 2:5000}\n",
        "oversample = SMOTE(sampling_strategy=strategy)\n",
        "\n",
        "#X_train_over, y_train_over = X_train, y_train\n",
        "X_train_over, y_train_over = oversample.fit_resample(X_train, y_train)\n",
        "\n",
        "y_train_over = to_categorical(y_train_over, num_classes=3)"
      ],
      "execution_count": 12,
      "outputs": [
        {
          "output_type": "stream",
          "text": [
            "/usr/local/lib/python3.7/dist-packages/imblearn/utils/_validation.py:257: UserWarning: After over-sampling, the number of samples (20000) in class 0 will be larger than the number of samples in the majority class (class #0 -> 11097)\n",
            "  n_samples_majority))\n",
            "/usr/local/lib/python3.7/dist-packages/sklearn/utils/deprecation.py:87: FutureWarning: Function safe_indexing is deprecated; safe_indexing is deprecated in version 0.22 and will be removed in version 0.24.\n",
            "  warnings.warn(msg, category=FutureWarning)\n",
            "/usr/local/lib/python3.7/dist-packages/sklearn/utils/deprecation.py:87: FutureWarning: Function safe_indexing is deprecated; safe_indexing is deprecated in version 0.22 and will be removed in version 0.24.\n",
            "  warnings.warn(msg, category=FutureWarning)\n",
            "/usr/local/lib/python3.7/dist-packages/sklearn/utils/deprecation.py:87: FutureWarning: Function safe_indexing is deprecated; safe_indexing is deprecated in version 0.22 and will be removed in version 0.24.\n",
            "  warnings.warn(msg, category=FutureWarning)\n"
          ],
          "name": "stderr"
        }
      ]
    },
    {
      "cell_type": "code",
      "metadata": {
        "id": "o-dKbW7WjQkS"
      },
      "source": [
        "scaler = MinMaxScaler(feature_range=(0, 1))\n",
        "#scaler = StandardScaler()\n",
        "\n",
        "X_train_over = scaler.fit_transform(X_train_over)\n",
        "#X_train_over = X_train_over.copy()\n",
        "\n",
        "X_test = scaler.fit_transform(df_test)"
      ],
      "execution_count": 13,
      "outputs": []
    },
    {
      "cell_type": "code",
      "metadata": {
        "colab": {
          "base_uri": "https://localhost:8080/"
        },
        "id": "CqsnRkYEOroS",
        "outputId": "70329041-3fd8-4f5c-ed69-32e2aaefa340"
      },
      "source": [
        "pd.DataFrame(y_train_over).value_counts()"
      ],
      "execution_count": 14,
      "outputs": [
        {
          "output_type": "execute_result",
          "data": {
            "text/plain": [
              "0    1    2  \n",
              "1.0  0.0  0.0    20000\n",
              "0.0  1.0  0.0     5000\n",
              "     0.0  1.0     5000\n",
              "dtype: int64"
            ]
          },
          "metadata": {
            "tags": []
          },
          "execution_count": 14
        }
      ]
    },
    {
      "cell_type": "markdown",
      "metadata": {
        "id": "CUNpHo3kZCDX"
      },
      "source": [
        "The next step is to prepare the dataset for the LSTM. The LSTM receives a matrix with the following shape: [samples, timesteps, features].\n",
        "\n",
        "We would work with 20 timesteps, so with the reshape this means in 1500 samples and the number of features is 16. \n",
        "\n",
        "Timesteps enable the LSTM to take into account what have happen previously and remember or consider it in order to predict the following instance. "
      ]
    },
    {
      "cell_type": "code",
      "metadata": {
        "colab": {
          "base_uri": "https://localhost:8080/"
        },
        "id": "1OE4_RK5QK5O",
        "outputId": "cf380e9d-277c-453b-e505-b182f6c5f079"
      },
      "source": [
        "#[samples, timesteps, features].\n",
        "timesteps = 20\n",
        "samples = int(X_train_over.shape[0]/timesteps)\n",
        "features = len(cols)\n",
        "\n",
        "X_train_reshape = np.array(X_train_over).reshape(samples, timesteps, features)\n",
        "y_train_reshape = np.array(y_train_over).reshape(samples, timesteps, 3)\n",
        "X_train_reshape.shape"
      ],
      "execution_count": 15,
      "outputs": [
        {
          "output_type": "execute_result",
          "data": {
            "text/plain": [
              "(1500, 20, 16)"
            ]
          },
          "metadata": {
            "tags": []
          },
          "execution_count": 15
        }
      ]
    },
    {
      "cell_type": "code",
      "metadata": {
        "colab": {
          "base_uri": "https://localhost:8080/"
        },
        "id": "47_0teVpgZjG",
        "outputId": "6ed60957-aab8-4a3a-d653-072fe75423c3"
      },
      "source": [
        "y_train_reshape"
      ],
      "execution_count": 16,
      "outputs": [
        {
          "output_type": "execute_result",
          "data": {
            "text/plain": [
              "array([[[1., 0., 0.],\n",
              "        [1., 0., 0.],\n",
              "        [0., 1., 0.],\n",
              "        ...,\n",
              "        [1., 0., 0.],\n",
              "        [1., 0., 0.],\n",
              "        [1., 0., 0.]],\n",
              "\n",
              "       [[1., 0., 0.],\n",
              "        [1., 0., 0.],\n",
              "        [1., 0., 0.],\n",
              "        ...,\n",
              "        [0., 0., 1.],\n",
              "        [1., 0., 0.],\n",
              "        [1., 0., 0.]],\n",
              "\n",
              "       [[1., 0., 0.],\n",
              "        [1., 0., 0.],\n",
              "        [1., 0., 0.],\n",
              "        ...,\n",
              "        [1., 0., 0.],\n",
              "        [1., 0., 0.],\n",
              "        [0., 1., 0.]],\n",
              "\n",
              "       ...,\n",
              "\n",
              "       [[0., 0., 1.],\n",
              "        [0., 0., 1.],\n",
              "        [0., 0., 1.],\n",
              "        ...,\n",
              "        [0., 0., 1.],\n",
              "        [0., 0., 1.],\n",
              "        [0., 0., 1.]],\n",
              "\n",
              "       [[0., 0., 1.],\n",
              "        [0., 0., 1.],\n",
              "        [0., 0., 1.],\n",
              "        ...,\n",
              "        [0., 0., 1.],\n",
              "        [0., 0., 1.],\n",
              "        [0., 0., 1.]],\n",
              "\n",
              "       [[0., 0., 1.],\n",
              "        [0., 0., 1.],\n",
              "        [0., 0., 1.],\n",
              "        ...,\n",
              "        [0., 0., 1.],\n",
              "        [0., 0., 1.],\n",
              "        [0., 0., 1.]]], dtype=float32)"
            ]
          },
          "metadata": {
            "tags": []
          },
          "execution_count": 16
        }
      ]
    },
    {
      "cell_type": "markdown",
      "metadata": {
        "id": "r-3oF_NDgK7C"
      },
      "source": [
        "# Model construction\n",
        "\n",
        "In this part the Neural Network is built. The first layer is a Sequential and the following is the LSTM. \n",
        "\n",
        "The last layer is also a Dense but with 3 outputs and the activation function is softmax as the output is multiclass. \n",
        "\n",
        "Moreover, the model loss function is the categorical_crossentropy and the selected optimizer is Adam. The metrics to track would be loss and accuracy."
      ]
    },
    {
      "cell_type": "code",
      "metadata": {
        "colab": {
          "base_uri": "https://localhost:8080/"
        },
        "id": "e2gIne7HQmj4",
        "outputId": "e6a9efb2-521e-428f-cfab-6f011d2c6903"
      },
      "source": [
        "model = Sequential()\n",
        "model.add(LSTM(500, dropout=0.25, input_shape=( timesteps, features ),return_sequences=True))\n",
        "\n",
        "model.add(Dense(3,activation='softmax'))\n",
        "\n",
        "model.compile(loss='categorical_crossentropy',\n",
        "              optimizer='adam', metrics=['accuracy'])\n",
        "\n",
        "model.summary()"
      ],
      "execution_count": 17,
      "outputs": [
        {
          "output_type": "stream",
          "text": [
            "Model: \"sequential\"\n",
            "_________________________________________________________________\n",
            "Layer (type)                 Output Shape              Param #   \n",
            "=================================================================\n",
            "lstm (LSTM)                  (None, 20, 500)           1034000   \n",
            "_________________________________________________________________\n",
            "dense (Dense)                (None, 20, 3)             1503      \n",
            "=================================================================\n",
            "Total params: 1,035,503\n",
            "Trainable params: 1,035,503\n",
            "Non-trainable params: 0\n",
            "_________________________________________________________________\n"
          ],
          "name": "stdout"
        }
      ]
    },
    {
      "cell_type": "markdown",
      "metadata": {
        "id": "mgXi4fnhkl7V"
      },
      "source": [
        "We create a callback to store the best model found in every epoch, so we don't lose it and can use it after the training. "
      ]
    },
    {
      "cell_type": "code",
      "metadata": {
        "id": "KxMj4QvdklGY"
      },
      "source": [
        "checkpoint_filepath = 'model.h5'\n",
        "\n",
        "model_checkpoint_callback = keras.callbacks.ModelCheckpoint(\n",
        "    filepath=checkpoint_filepath,\n",
        "    monitor='val_accuracy',\n",
        "    mode='max',\n",
        "    save_best_only=True)"
      ],
      "execution_count": 18,
      "outputs": []
    },
    {
      "cell_type": "code",
      "metadata": {
        "id": "44sZ1Z5_kmiN"
      },
      "source": [
        "X_train_orig = scaler.fit_transform(X_train[:-1])\n",
        "y_train_orig = to_categorical(y_train[:-1], num_classes=3)"
      ],
      "execution_count": 19,
      "outputs": []
    },
    {
      "cell_type": "code",
      "metadata": {
        "colab": {
          "base_uri": "https://localhost:8080/"
        },
        "id": "IOBKDeOQknZy",
        "outputId": "4f955838-27bc-40ba-d49c-df7ee5750ec6"
      },
      "source": [
        "timesteps = 20\n",
        "samples = int(X_train_orig.shape[0]/timesteps)\n",
        "features = len(cols)\n",
        "\n",
        "X_train_orig_reshape = np.array(X_train_orig).reshape(samples, timesteps, features)\n",
        "y_train_orig_reshape = np.array(y_train_orig).reshape(samples, timesteps, 3)\n",
        "X_train_orig_reshape.shape"
      ],
      "execution_count": 20,
      "outputs": [
        {
          "output_type": "execute_result",
          "data": {
            "text/plain": [
              "(635, 20, 16)"
            ]
          },
          "metadata": {
            "tags": []
          },
          "execution_count": 20
        }
      ]
    },
    {
      "cell_type": "markdown",
      "metadata": {
        "id": "geDasaqlhFoZ"
      },
      "source": [
        "We will use the new balanced training set to fit the model and the original training set to validate the model. \n",
        "\n",
        "We now wait for the model to fit. Note that the accuracy we obtain is not the real accuracy as we have oversampled the dataset, the val_accuracy is the real accuracy.\n",
        "\n",
        "The oversample is done in order to allow the model to see more unbalanced classes so it can classify them better. "
      ]
    },
    {
      "cell_type": "code",
      "metadata": {
        "id": "d_nAb30LQ0MD"
      },
      "source": [
        "history = model.fit(X_train_reshape, y_train_reshape, epochs=3000, batch_size=512, verbose=0, callbacks=[model_checkpoint_callback],\n",
        "          validation_data=(X_train_orig_reshape, y_train_orig_reshape))"
      ],
      "execution_count": 21,
      "outputs": []
    },
    {
      "cell_type": "code",
      "metadata": {
        "colab": {
          "base_uri": "https://localhost:8080/",
          "height": 632
        },
        "id": "zrZNnKqSof0w",
        "outputId": "65412528-9007-4256-c0ff-4114f203e846"
      },
      "source": [
        "fig, ax = plt.subplots(2,1,figsize=(10,10))\n",
        "ax[0].set_title('Cross Entropy Loss', fontsize = 20)\n",
        "ax[0].plot(history.history['loss'], color='blue', label='Train')\n",
        "ax[0].plot(history.history['val_loss'], color='orange', label='Validation')\n",
        "ax[0].set_ylabel('Cross Entropy Loss', fontsize = 16)\n",
        "ax[0].legend(fontsize = 16)\n",
        "\n",
        "ax[1].set_title('Classification Accuracy', fontsize = 20)\n",
        "ax[1].plot(history.history['accuracy'], color='blue', label='Train')\n",
        "ax[1].plot(history.history['val_accuracy'], color='orange', label='Validation')\n",
        "ax[1].set_ylabel('Classification Accuracy', fontsize = 16)\n",
        "ax[1].set_xlabel('Epochs', fontsize = 16)\n",
        "ax[1].legend(fontsize = 16)\n",
        "\n",
        "plt.show()"
      ],
      "execution_count": 22,
      "outputs": [
        {
          "output_type": "display_data",
          "data": {
            "image/png": "[encoded data removed]",
            "text/plain": [
              "<Figure size 720x720 with 2 Axes>"
            ]
          },
          "metadata": {
            "tags": [],
            "needs_background": "light"
          }
        }
      ]
    },
    {
      "cell_type": "markdown",
      "metadata": {
        "id": "W23VOTqJhP69"
      },
      "source": [
        "## Analysis of the solution\n",
        "\n",
        "In this step, we will see if the model actually predicts several outputs or if it only predicts 1 output across all instances. This has been a recurrent problem I've faced using this Neural Network."
      ]
    },
    {
      "cell_type": "code",
      "metadata": {
        "colab": {
          "base_uri": "https://localhost:8080/"
        },
        "id": "BHW-75ZlmxBH",
        "outputId": "7c62ff41-6f42-49f3-87ca-966e13035fca"
      },
      "source": [
        "best_model = load_model('model.h5')\n",
        "best_model.summary()"
      ],
      "execution_count": 23,
      "outputs": [
        {
          "output_type": "stream",
          "text": [
            "Model: \"sequential\"\n",
            "_________________________________________________________________\n",
            "Layer (type)                 Output Shape              Param #   \n",
            "=================================================================\n",
            "lstm (LSTM)                  (None, 20, 500)           1034000   \n",
            "_________________________________________________________________\n",
            "dense (Dense)                (None, 20, 3)             1503      \n",
            "=================================================================\n",
            "Total params: 1,035,503\n",
            "Trainable params: 1,035,503\n",
            "Non-trainable params: 0\n",
            "_________________________________________________________________\n"
          ],
          "name": "stdout"
        }
      ]
    },
    {
      "cell_type": "code",
      "metadata": {
        "colab": {
          "base_uri": "https://localhost:8080/"
        },
        "id": "ZY8BpeiRZ8u4",
        "outputId": "fd7d89b2-02d8-4192-92e7-3e80b196330d"
      },
      "source": [
        "p = pd.DataFrame(best_model.predict(X_train_reshape).reshape(X_train_reshape.shape[0]*X_train_reshape.shape[1],3))\n",
        "p.idxmax(axis=1).value_counts()"
      ],
      "execution_count": 24,
      "outputs": [
        {
          "output_type": "execute_result",
          "data": {
            "text/plain": [
              "0    21052\n",
              "1     4547\n",
              "2     4401\n",
              "dtype: int64"
            ]
          },
          "metadata": {
            "tags": []
          },
          "execution_count": 24
        }
      ]
    },
    {
      "cell_type": "code",
      "metadata": {
        "colab": {
          "base_uri": "https://localhost:8080/"
        },
        "id": "jIm3sdXWyIN8",
        "outputId": "c89219ea-9055-4435-f739-cf61eaaf1f78"
      },
      "source": [
        "p = pd.DataFrame(best_model.predict(X_train_orig_reshape).reshape(X_train_orig_reshape.shape[0]*X_train_orig_reshape.shape[1],3))\n",
        "p.idxmax(axis=1).value_counts()"
      ],
      "execution_count": 25,
      "outputs": [
        {
          "output_type": "execute_result",
          "data": {
            "text/plain": [
              "0    11497\n",
              "2      607\n",
              "1      596\n",
              "dtype: int64"
            ]
          },
          "metadata": {
            "tags": []
          },
          "execution_count": 25
        }
      ]
    },
    {
      "cell_type": "code",
      "metadata": {
        "colab": {
          "base_uri": "https://localhost:8080/",
          "height": 414
        },
        "id": "OdbmmzQOqVpb",
        "outputId": "f132f77d-6a94-4828-9fb7-c243f0ddedfb"
      },
      "source": [
        "p['predicted'] = p.idxmax(axis=1)\n",
        "p['real'] = y_train\n",
        "p"
      ],
      "execution_count": 26,
      "outputs": [
        {
          "output_type": "execute_result",
          "data": {
            "text/html": [
              "<div>\n",
              "<style scoped>\n",
              "    .dataframe tbody tr th:only-of-type {\n",
              "        vertical-align: middle;\n",
              "    }\n",
              "\n",
              "    .dataframe tbody tr th {\n",
              "        vertical-align: top;\n",
              "    }\n",
              "\n",
              "    .dataframe thead th {\n",
              "        text-align: right;\n",
              "    }\n",
              "</style>\n",
              "<table border=\"1\" class=\"dataframe\">\n",
              "  <thead>\n",
              "    <tr style=\"text-align: right;\">\n",
              "      <th></th>\n",
              "      <th>0</th>\n",
              "      <th>1</th>\n",
              "      <th>2</th>\n",
              "      <th>predicted</th>\n",
              "      <th>real</th>\n",
              "    </tr>\n",
              "  </thead>\n",
              "  <tbody>\n",
              "    <tr>\n",
              "      <th>0</th>\n",
              "      <td>0.660182</td>\n",
              "      <td>1.688114e-01</td>\n",
              "      <td>1.710067e-01</td>\n",
              "      <td>0</td>\n",
              "      <td>0</td>\n",
              "    </tr>\n",
              "    <tr>\n",
              "      <th>1</th>\n",
              "      <td>0.619376</td>\n",
              "      <td>2.034785e-01</td>\n",
              "      <td>1.771450e-01</td>\n",
              "      <td>0</td>\n",
              "      <td>0</td>\n",
              "    </tr>\n",
              "    <tr>\n",
              "      <th>2</th>\n",
              "      <td>0.659026</td>\n",
              "      <td>2.193933e-01</td>\n",
              "      <td>1.215808e-01</td>\n",
              "      <td>0</td>\n",
              "      <td>1</td>\n",
              "    </tr>\n",
              "    <tr>\n",
              "      <th>3</th>\n",
              "      <td>0.831538</td>\n",
              "      <td>1.068154e-01</td>\n",
              "      <td>6.164701e-02</td>\n",
              "      <td>0</td>\n",
              "      <td>0</td>\n",
              "    </tr>\n",
              "    <tr>\n",
              "      <th>4</th>\n",
              "      <td>0.922738</td>\n",
              "      <td>1.167748e-02</td>\n",
              "      <td>6.558498e-02</td>\n",
              "      <td>0</td>\n",
              "      <td>0</td>\n",
              "    </tr>\n",
              "    <tr>\n",
              "      <th>...</th>\n",
              "      <td>...</td>\n",
              "      <td>...</td>\n",
              "      <td>...</td>\n",
              "      <td>...</td>\n",
              "      <td>...</td>\n",
              "    </tr>\n",
              "    <tr>\n",
              "      <th>12695</th>\n",
              "      <td>0.999984</td>\n",
              "      <td>1.610680e-05</td>\n",
              "      <td>1.261547e-07</td>\n",
              "      <td>0</td>\n",
              "      <td>0</td>\n",
              "    </tr>\n",
              "    <tr>\n",
              "      <th>12696</th>\n",
              "      <td>0.998998</td>\n",
              "      <td>3.715474e-04</td>\n",
              "      <td>6.305457e-04</td>\n",
              "      <td>0</td>\n",
              "      <td>0</td>\n",
              "    </tr>\n",
              "    <tr>\n",
              "      <th>12697</th>\n",
              "      <td>0.000481</td>\n",
              "      <td>8.481560e-07</td>\n",
              "      <td>9.995180e-01</td>\n",
              "      <td>2</td>\n",
              "      <td>2</td>\n",
              "    </tr>\n",
              "    <tr>\n",
              "      <th>12698</th>\n",
              "      <td>0.999973</td>\n",
              "      <td>4.098876e-08</td>\n",
              "      <td>2.690536e-05</td>\n",
              "      <td>0</td>\n",
              "      <td>0</td>\n",
              "    </tr>\n",
              "    <tr>\n",
              "      <th>12699</th>\n",
              "      <td>0.999982</td>\n",
              "      <td>3.611796e-06</td>\n",
              "      <td>1.470248e-05</td>\n",
              "      <td>0</td>\n",
              "      <td>0</td>\n",
              "    </tr>\n",
              "  </tbody>\n",
              "</table>\n",
              "<p>12700 rows × 5 columns</p>\n",
              "</div>"
            ],
            "text/plain": [
              "              0             1             2  predicted  real\n",
              "0      0.660182  1.688114e-01  1.710067e-01          0     0\n",
              "1      0.619376  2.034785e-01  1.771450e-01          0     0\n",
              "2      0.659026  2.193933e-01  1.215808e-01          0     1\n",
              "3      0.831538  1.068154e-01  6.164701e-02          0     0\n",
              "4      0.922738  1.167748e-02  6.558498e-02          0     0\n",
              "...         ...           ...           ...        ...   ...\n",
              "12695  0.999984  1.610680e-05  1.261547e-07          0     0\n",
              "12696  0.998998  3.715474e-04  6.305457e-04          0     0\n",
              "12697  0.000481  8.481560e-07  9.995180e-01          2     2\n",
              "12698  0.999973  4.098876e-08  2.690536e-05          0     0\n",
              "12699  0.999982  3.611796e-06  1.470248e-05          0     0\n",
              "\n",
              "[12700 rows x 5 columns]"
            ]
          },
          "metadata": {
            "tags": []
          },
          "execution_count": 26
        }
      ]
    },
    {
      "cell_type": "code",
      "metadata": {
        "colab": {
          "base_uri": "https://localhost:8080/"
        },
        "id": "3oSDTBAZt1bG",
        "outputId": "c8895e13-2a0b-4243-9eb1-d27a270d1332"
      },
      "source": [
        "accuracy = (p['predicted'] == p['real']).sum()\n",
        "print('Accuracy: ',accuracy/p.shape[0])"
      ],
      "execution_count": 27,
      "outputs": [
        {
          "output_type": "stream",
          "text": [
            "Accuracy:  0.9621259842519685\n"
          ],
          "name": "stdout"
        }
      ]
    },
    {
      "cell_type": "markdown",
      "metadata": {
        "id": "7-iPd0FSli1X"
      },
      "source": [
        "# Prediction\n",
        "\n",
        "After we have built the model, we use the best with the highest accuracy scored and use it to predict. \n",
        "\n",
        "However, test dataset has to be also reshaped and this can be an issue, as the Neural Network expects a certain type of input shape and the number of instances does not allow a well suited reshape. "
      ]
    },
    {
      "cell_type": "code",
      "metadata": {
        "colab": {
          "base_uri": "https://localhost:8080/"
        },
        "id": "SoAJ4HDutVpq",
        "outputId": "4359abc0-dabf-4e80-8134-9c549b84bc7a"
      },
      "source": [
        "X_test.shape"
      ],
      "execution_count": 28,
      "outputs": [
        {
          "output_type": "execute_result",
          "data": {
            "text/plain": [
              "(5443, 16)"
            ]
          },
          "metadata": {
            "tags": []
          },
          "execution_count": 28
        }
      ]
    },
    {
      "cell_type": "code",
      "metadata": {
        "colab": {
          "base_uri": "https://localhost:8080/"
        },
        "id": "EB9_eFsoaKHe",
        "outputId": "71f9412b-a751-424d-fe22-3b82805155ac"
      },
      "source": [
        "X_test_orig = X_test[:-3]\n",
        "\n",
        "timesteps = 20\n",
        "samples = int(X_test_orig.shape[0]/timesteps)\n",
        "features = len(cols)\n",
        "\n",
        "X_test_orig_reshape = np.array(X_test_orig).reshape(samples, timesteps, features)\n",
        "\n",
        "res = pd.DataFrame(best_model.predict(X_test_orig_reshape).reshape(X_test_orig_reshape.shape[0]*X_test_orig_reshape.shape[1],3))\n",
        "res.idxmax(axis=1).value_counts()"
      ],
      "execution_count": 29,
      "outputs": [
        {
          "output_type": "execute_result",
          "data": {
            "text/plain": [
              "0    4971\n",
              "2     282\n",
              "1     187\n",
              "dtype: int64"
            ]
          },
          "metadata": {
            "tags": []
          },
          "execution_count": 29
        }
      ]
    },
    {
      "cell_type": "markdown",
      "metadata": {
        "id": "Hb_p2t7Zs_sA"
      },
      "source": [
        "As we are limited by the timesteps and the dimensions of the test dataset, we have left 3 instances so we will just give them the default answer 0 (wait). "
      ]
    },
    {
      "cell_type": "code",
      "metadata": {
        "id": "h8moixGItsQr"
      },
      "source": [
        "result = list(res.idxmax(axis=1))\n",
        "result.append(0)\n",
        "result.append(0)\n",
        "result.append(0)"
      ],
      "execution_count": 30,
      "outputs": []
    },
    {
      "cell_type": "code",
      "metadata": {
        "colab": {
          "base_uri": "https://localhost:8080/"
        },
        "id": "e5P4xzuluUuu",
        "outputId": "3bf83c58-8f51-4e39-ec04-59caee6f3106"
      },
      "source": [
        "pd.DataFrame(result).shape"
      ],
      "execution_count": 31,
      "outputs": [
        {
          "output_type": "execute_result",
          "data": {
            "text/plain": [
              "(5443, 1)"
            ]
          },
          "metadata": {
            "tags": []
          },
          "execution_count": 31
        }
      ]
    },
    {
      "cell_type": "code",
      "metadata": {
        "id": "6oSNrd84vCAp"
      },
      "source": [
        "pd.DataFrame(result).to_csv('result.csv')"
      ],
      "execution_count": 32,
      "outputs": []
    },
    {
      "cell_type": "code",
      "metadata": {
        "colab": {
          "base_uri": "https://localhost:8080/",
          "height": 414
        },
        "id": "hRBoafuV031_",
        "outputId": "68e3af1e-2a56-4632-b2c3-9ef6da43a14d"
      },
      "source": [
        "res"
      ],
      "execution_count": 33,
      "outputs": [
        {
          "output_type": "execute_result",
          "data": {
            "text/html": [
              "<div>\n",
              "<style scoped>\n",
              "    .dataframe tbody tr th:only-of-type {\n",
              "        vertical-align: middle;\n",
              "    }\n",
              "\n",
              "    .dataframe tbody tr th {\n",
              "        vertical-align: top;\n",
              "    }\n",
              "\n",
              "    .dataframe thead th {\n",
              "        text-align: right;\n",
              "    }\n",
              "</style>\n",
              "<table border=\"1\" class=\"dataframe\">\n",
              "  <thead>\n",
              "    <tr style=\"text-align: right;\">\n",
              "      <th></th>\n",
              "      <th>0</th>\n",
              "      <th>1</th>\n",
              "      <th>2</th>\n",
              "    </tr>\n",
              "  </thead>\n",
              "  <tbody>\n",
              "    <tr>\n",
              "      <th>0</th>\n",
              "      <td>0.513942</td>\n",
              "      <td>0.237600</td>\n",
              "      <td>2.484582e-01</td>\n",
              "    </tr>\n",
              "    <tr>\n",
              "      <th>1</th>\n",
              "      <td>0.621218</td>\n",
              "      <td>0.177969</td>\n",
              "      <td>2.008129e-01</td>\n",
              "    </tr>\n",
              "    <tr>\n",
              "      <th>2</th>\n",
              "      <td>0.689211</td>\n",
              "      <td>0.135172</td>\n",
              "      <td>1.756174e-01</td>\n",
              "    </tr>\n",
              "    <tr>\n",
              "      <th>3</th>\n",
              "      <td>0.716493</td>\n",
              "      <td>0.044494</td>\n",
              "      <td>2.390125e-01</td>\n",
              "    </tr>\n",
              "    <tr>\n",
              "      <th>4</th>\n",
              "      <td>0.096231</td>\n",
              "      <td>0.072877</td>\n",
              "      <td>8.308920e-01</td>\n",
              "    </tr>\n",
              "    <tr>\n",
              "      <th>...</th>\n",
              "      <td>...</td>\n",
              "      <td>...</td>\n",
              "      <td>...</td>\n",
              "    </tr>\n",
              "    <tr>\n",
              "      <th>5435</th>\n",
              "      <td>0.999993</td>\n",
              "      <td>0.000007</td>\n",
              "      <td>6.407532e-08</td>\n",
              "    </tr>\n",
              "    <tr>\n",
              "      <th>5436</th>\n",
              "      <td>0.997723</td>\n",
              "      <td>0.002095</td>\n",
              "      <td>1.823406e-04</td>\n",
              "    </tr>\n",
              "    <tr>\n",
              "      <th>5437</th>\n",
              "      <td>0.642296</td>\n",
              "      <td>0.027510</td>\n",
              "      <td>3.301941e-01</td>\n",
              "    </tr>\n",
              "    <tr>\n",
              "      <th>5438</th>\n",
              "      <td>0.994206</td>\n",
              "      <td>0.001118</td>\n",
              "      <td>4.675828e-03</td>\n",
              "    </tr>\n",
              "    <tr>\n",
              "      <th>5439</th>\n",
              "      <td>0.999996</td>\n",
              "      <td>0.000003</td>\n",
              "      <td>6.334462e-07</td>\n",
              "    </tr>\n",
              "  </tbody>\n",
              "</table>\n",
              "<p>5440 rows × 3 columns</p>\n",
              "</div>"
            ],
            "text/plain": [
              "             0         1             2\n",
              "0     0.513942  0.237600  2.484582e-01\n",
              "1     0.621218  0.177969  2.008129e-01\n",
              "2     0.689211  0.135172  1.756174e-01\n",
              "3     0.716493  0.044494  2.390125e-01\n",
              "4     0.096231  0.072877  8.308920e-01\n",
              "...        ...       ...           ...\n",
              "5435  0.999993  0.000007  6.407532e-08\n",
              "5436  0.997723  0.002095  1.823406e-04\n",
              "5437  0.642296  0.027510  3.301941e-01\n",
              "5438  0.994206  0.001118  4.675828e-03\n",
              "5439  0.999996  0.000003  6.334462e-07\n",
              "\n",
              "[5440 rows x 3 columns]"
            ]
          },
          "metadata": {
            "tags": []
          },
          "execution_count": 33
        }
      ]
    },
    {
      "cell_type": "markdown",
      "metadata": {
        "id": "R7-cPE4Wtc1d"
      },
      "source": [
        "Let's see what would be our score in the test!"
      ]
    },
    {
      "cell_type": "markdown",
      "metadata": {
        "id": "bMuS5Iwvqbkg"
      },
      "source": [
        "**Bibliography**\n",
        "\n",
        "- [Keras LSTM multiclass classification](https://stackoverflow.com/questions/68371579/how-to-reshape-data-for-lstm-time-series-multi-class-classification)\n",
        "\n",
        "- [How to Develop a Bidirectional LSTM For Sequence Classification in Python with Keras](https://machinelearningmastery.com/develop-bidirectional-lstm-sequence-classification-python-keras/)\n",
        "\n",
        "- [Multi-Class Imbalanced Classification](https://machinelearningmastery.com/multi-class-imbalanced-classification/)\n",
        "\n",
        "- [SMOTE oversampling for Imbalanced Classification](https://machinelearningmastery.com/smote-oversampling-for-imbalanced-classification/)\n",
        "\n",
        "- [Keras LSTM Multiclass Classification for Time Series](https://stackoverflow.com/questions/58514992/keras-lstm-multiclass-classification-for-time-series)"
      ]
    }
  ]
}